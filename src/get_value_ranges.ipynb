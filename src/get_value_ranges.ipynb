{
 "cells": [
  {
   "cell_type": "code",
   "execution_count": 1,
   "metadata": {},
   "outputs": [
    {
     "data": {
      "application/vnd.microsoft.datawrangler.viewer.v0+json": {
       "columns": [
        {
         "name": "index",
         "rawType": "int64",
         "type": "integer"
        },
        {
         "name": "BELNR",
         "rawType": "int64",
         "type": "integer"
        },
        {
         "name": "WAERS",
         "rawType": "object",
         "type": "string"
        },
        {
         "name": "BUKRS",
         "rawType": "object",
         "type": "string"
        },
        {
         "name": "KTOSL",
         "rawType": "object",
         "type": "string"
        },
        {
         "name": "PRCTR",
         "rawType": "object",
         "type": "string"
        },
        {
         "name": "BSCHL",
         "rawType": "object",
         "type": "string"
        },
        {
         "name": "HKONT",
         "rawType": "object",
         "type": "string"
        },
        {
         "name": "DMBTR",
         "rawType": "float64",
         "type": "float"
        },
        {
         "name": "WRBTR",
         "rawType": "float64",
         "type": "float"
        },
        {
         "name": "label",
         "rawType": "object",
         "type": "string"
        }
       ],
       "conversionMethod": "pd.DataFrame",
       "ref": "0d1174de-879d-473b-a7f9-d52bc2b1747d",
       "rows": [
        [
         "0",
         "12939",
         "C1",
         "C20",
         "C1",
         "C18",
         "A1",
         "B1",
         "910658.284578",
         "54449.8388203",
         "anomal"
        ],
        [
         "1",
         "32317",
         "C1",
         "C11",
         "C1",
         "C53",
         "A1",
         "B1",
         "910653.005238",
         "54439.2114205",
         "anomal"
        ],
        [
         "2",
         "33365",
         "W59",
         "C13",
         "P83",
         "I73",
         "I05",
         "Q99",
         "92445515.6116",
         "59585038.4531",
         "anomal"
        ],
        [
         "3",
         "34058",
         "C1",
         "C11",
         "C1",
         "C91",
         "A1",
         "B1",
         "910668.887465",
         "54440.8565827",
         "anomal"
        ],
        [
         "4",
         "34059",
         "C1",
         "C11",
         "C1",
         "C64",
         "A1",
         "B1",
         "910631.632279",
         "54443.2837943",
         "anomal"
        ],
        [
         "5",
         "35691",
         "M07",
         "S42",
         "J81",
         "A14",
         "O49",
         "Z01",
         "92445529.3506",
         "59585030.9733",
         "anomal"
        ],
        [
         "6",
         "35944",
         "J82",
         "Q22",
         "P32",
         "Z74",
         "Y19",
         "K27",
         "92445534.656",
         "59585038.9215",
         "anomal"
        ],
        [
         "7",
         "41925",
         "T17",
         "R47",
         "D84",
         "F38",
         "I81",
         "D68",
         "92445523.241",
         "59585047.5664",
         "anomal"
        ],
        [
         "8",
         "43399",
         "C1",
         "C11",
         "C1",
         "C79",
         "A1",
         "B1",
         "910650.440131",
         "54435.055247",
         "anomal"
        ],
        [
         "9",
         "52048",
         "Q82",
         "S54",
         "J53",
         "T46",
         "Y42",
         "S06",
         "92445529.9899",
         "59585028.7942",
         "anomal"
        ],
        [
         "10",
         "71036",
         "B00",
         "O64",
         "T41",
         "Y68",
         "H15",
         "L79",
         "92445518.3706",
         "59585026.0924",
         "anomal"
        ],
        [
         "11",
         "88224",
         "D88",
         "B37",
         "D51",
         "F69",
         "N50",
         "M13",
         "92445521.0005",
         "59585043.925",
         "anomal"
        ],
        [
         "12",
         "90831",
         "P03",
         "M90",
         "U27",
         "R22",
         "S15",
         "N95",
         "92445512.7124",
         "59585044.6612",
         "anomal"
        ],
        [
         "13",
         "91688",
         "R07",
         "U18",
         "V96",
         "L28",
         "K79",
         "K77",
         "92445516.5836",
         "59585038.7989",
         "anomal"
        ],
        [
         "14",
         "93972",
         "L82",
         "G45",
         "G19",
         "W37",
         "A49",
         "U45",
         "92445503.8262",
         "59585035.9197",
         "anomal"
        ],
        [
         "15",
         "97954",
         "C1",
         "C11",
         "C1",
         "C68",
         "A1",
         "B1",
         "910648.636111",
         "54442.6181113",
         "anomal"
        ],
        [
         "16",
         "102552",
         "P37",
         "S83",
         "S23",
         "U16",
         "N35",
         "C42",
         "92445516.8683",
         "59585018.6138",
         "anomal"
        ],
        [
         "17",
         "107062",
         "D48",
         "L43",
         "R89",
         "B72",
         "Y59",
         "D00",
         "92445533.9446",
         "59585046.5992",
         "anomal"
        ],
        [
         "18",
         "113179",
         "H01",
         "E65",
         "O50",
         "F20",
         "M83",
         "V78",
         "92445517.8108",
         "59585034.2642",
         "anomal"
        ],
        [
         "19",
         "119338",
         "G92",
         "W69",
         "K78",
         "J13",
         "W62",
         "S49",
         "92445535.2106",
         "59585050.5582",
         "anomal"
        ],
        [
         "20",
         "131910",
         "O43",
         "R07",
         "N80",
         "J39",
         "T90",
         "V92",
         "92445518.2981",
         "59585041.1988",
         "anomal"
        ],
        [
         "21",
         "144286",
         "C1",
         "C11",
         "C1",
         "C76",
         "A1",
         "B1",
         "910645.076191",
         "54448.4401988",
         "anomal"
        ],
        [
         "22",
         "170320",
         "C1",
         "C11",
         "C1",
         "C30",
         "A1",
         "B1",
         "910645.965114",
         "54452.8097799",
         "anomal"
        ],
        [
         "23",
         "172868",
         "W25",
         "G35",
         "K00",
         "C11",
         "B38",
         "C25",
         "92445498.6237",
         "59585051.0331",
         "anomal"
        ],
        [
         "24",
         "179462",
         "S31",
         "G87",
         "A19",
         "H01",
         "U81",
         "Z02",
         "92445515.2009",
         "59585028.796",
         "anomal"
        ],
        [
         "25",
         "182606",
         "O37",
         "K17",
         "N40",
         "M51",
         "F99",
         "U09",
         "92445524.4404",
         "59585031.934",
         "anomal"
        ],
        [
         "26",
         "183064",
         "C1",
         "C11",
         "C1",
         "C82",
         "A1",
         "B1",
         "910648.873494",
         "54436.7055752",
         "anomal"
        ],
        [
         "27",
         "198583",
         "K11",
         "Q00",
         "R19",
         "U99",
         "F24",
         "N10",
         "92445511.5839",
         "59585057.6133",
         "anomal"
        ],
        [
         "28",
         "199041",
         "K99",
         "T17",
         "C84",
         "L74",
         "T28",
         "N47",
         "92445506.6853",
         "59585013.6745",
         "anomal"
        ],
        [
         "29",
         "213105",
         "C1",
         "C17",
         "C1",
         "C20",
         "A1",
         "B1",
         "910664.385738",
         "54436.8975719",
         "anomal"
        ],
        [
         "30",
         "215582",
         "E15",
         "M55",
         "V86",
         "X23",
         "J72",
         "R19",
         "92445512.7712",
         "59585064.5097",
         "anomal"
        ],
        [
         "31",
         "220927",
         "C1",
         "C11",
         "C1",
         "C60",
         "A1",
         "B1",
         "910648.545092",
         "54446.3828302",
         "anomal"
        ],
        [
         "32",
         "229634",
         "G38",
         "L49",
         "J67",
         "O92",
         "L36",
         "K45",
         "92445516.8082",
         "59585030.9065",
         "anomal"
        ],
        [
         "33",
         "230216",
         "L26",
         "Q54",
         "W66",
         "D88",
         "I57",
         "J90",
         "92445523.8452",
         "59585045.2316",
         "anomal"
        ],
        [
         "34",
         "230755",
         "Z06",
         "H26",
         "W22",
         "Q11",
         "T83",
         "D25",
         "92445525.7899",
         "59585058.4756",
         "anomal"
        ],
        [
         "35",
         "234335",
         "C1",
         "C11",
         "C1",
         "C80",
         "A1",
         "B1",
         "910647.596802",
         "54446.1130553",
         "anomal"
        ],
        [
         "36",
         "234460",
         "C1",
         "C11",
         "C1",
         "C26",
         "A1",
         "B1",
         "910655.728514",
         "54441.6002917",
         "anomal"
        ],
        [
         "37",
         "246305",
         "P31",
         "Z98",
         "I08",
         "M66",
         "B43",
         "F54",
         "92445526.5137",
         "59585025.1595",
         "anomal"
        ],
        [
         "38",
         "246409",
         "N43",
         "S55",
         "R08",
         "N40",
         "A10",
         "T91",
         "92445523.4338",
         "59585053.2912",
         "anomal"
        ],
        [
         "39",
         "246501",
         "O64",
         "W24",
         "S79",
         "X72",
         "Z74",
         "J09",
         "92445519.6935",
         "59585044.0803",
         "anomal"
        ],
        [
         "40",
         "251260",
         "Q52",
         "G37",
         "L09",
         "L03",
         "C31",
         "L31",
         "92445533.2032",
         "59585048.7997",
         "anomal"
        ],
        [
         "41",
         "261308",
         "T68",
         "A89",
         "L29",
         "H65",
         "I26",
         "Q69",
         "92445504.4746",
         "59585023.9884",
         "anomal"
        ],
        [
         "42",
         "281049",
         "H50",
         "I98",
         "F19",
         "M46",
         "O26",
         "T37",
         "92445516.329",
         "59585048.2113",
         "anomal"
        ],
        [
         "43",
         "281275",
         "D52",
         "P33",
         "F45",
         "L40",
         "F67",
         "T15",
         "92445523.3713",
         "59585058.3137",
         "anomal"
        ],
        [
         "44",
         "300115",
         "C1",
         "C11",
         "C1",
         "C88",
         "A1",
         "B1",
         "910649.13522",
         "54441.440806",
         "anomal"
        ],
        [
         "45",
         "303744",
         "H54",
         "Q11",
         "X82",
         "H69",
         "J21",
         "R89",
         "92445515.7185",
         "59585046.4679",
         "anomal"
        ],
        [
         "46",
         "306535",
         "J73",
         "K76",
         "Q44",
         "K32",
         "H00",
         "A42",
         "92445510.3086",
         "59585053.4903",
         "anomal"
        ],
        [
         "47",
         "306995",
         "C1",
         "C11",
         "C1",
         "C39",
         "A1",
         "B1",
         "910648.451982",
         "54428.4983147",
         "anomal"
        ],
        [
         "48",
         "315589",
         "P79",
         "N56",
         "N39",
         "P47",
         "H17",
         "S52",
         "92445513.9541",
         "59585027.233",
         "anomal"
        ],
        [
         "49",
         "316053",
         "P37",
         "R01",
         "B83",
         "V44",
         "M24",
         "K56",
         "92445501.4775",
         "59585038.0864",
         "anomal"
        ]
       ],
       "shape": {
        "columns": 10,
        "rows": 100
       }
      },
      "text/html": [
       "<div>\n",
       "<style scoped>\n",
       "    .dataframe tbody tr th:only-of-type {\n",
       "        vertical-align: middle;\n",
       "    }\n",
       "\n",
       "    .dataframe tbody tr th {\n",
       "        vertical-align: top;\n",
       "    }\n",
       "\n",
       "    .dataframe thead th {\n",
       "        text-align: right;\n",
       "    }\n",
       "</style>\n",
       "<table border=\"1\" class=\"dataframe\">\n",
       "  <thead>\n",
       "    <tr style=\"text-align: right;\">\n",
       "      <th></th>\n",
       "      <th>BELNR</th>\n",
       "      <th>WAERS</th>\n",
       "      <th>BUKRS</th>\n",
       "      <th>KTOSL</th>\n",
       "      <th>PRCTR</th>\n",
       "      <th>BSCHL</th>\n",
       "      <th>HKONT</th>\n",
       "      <th>DMBTR</th>\n",
       "      <th>WRBTR</th>\n",
       "      <th>label</th>\n",
       "    </tr>\n",
       "  </thead>\n",
       "  <tbody>\n",
       "    <tr>\n",
       "      <th>0</th>\n",
       "      <td>12939</td>\n",
       "      <td>C1</td>\n",
       "      <td>C20</td>\n",
       "      <td>C1</td>\n",
       "      <td>C18</td>\n",
       "      <td>A1</td>\n",
       "      <td>B1</td>\n",
       "      <td>9.106583e+05</td>\n",
       "      <td>5.444984e+04</td>\n",
       "      <td>anomal</td>\n",
       "    </tr>\n",
       "    <tr>\n",
       "      <th>1</th>\n",
       "      <td>32317</td>\n",
       "      <td>C1</td>\n",
       "      <td>C11</td>\n",
       "      <td>C1</td>\n",
       "      <td>C53</td>\n",
       "      <td>A1</td>\n",
       "      <td>B1</td>\n",
       "      <td>9.106530e+05</td>\n",
       "      <td>5.443921e+04</td>\n",
       "      <td>anomal</td>\n",
       "    </tr>\n",
       "    <tr>\n",
       "      <th>2</th>\n",
       "      <td>33365</td>\n",
       "      <td>W59</td>\n",
       "      <td>C13</td>\n",
       "      <td>P83</td>\n",
       "      <td>I73</td>\n",
       "      <td>I05</td>\n",
       "      <td>Q99</td>\n",
       "      <td>9.244552e+07</td>\n",
       "      <td>5.958504e+07</td>\n",
       "      <td>anomal</td>\n",
       "    </tr>\n",
       "    <tr>\n",
       "      <th>3</th>\n",
       "      <td>34058</td>\n",
       "      <td>C1</td>\n",
       "      <td>C11</td>\n",
       "      <td>C1</td>\n",
       "      <td>C91</td>\n",
       "      <td>A1</td>\n",
       "      <td>B1</td>\n",
       "      <td>9.106689e+05</td>\n",
       "      <td>5.444086e+04</td>\n",
       "      <td>anomal</td>\n",
       "    </tr>\n",
       "    <tr>\n",
       "      <th>4</th>\n",
       "      <td>34059</td>\n",
       "      <td>C1</td>\n",
       "      <td>C11</td>\n",
       "      <td>C1</td>\n",
       "      <td>C64</td>\n",
       "      <td>A1</td>\n",
       "      <td>B1</td>\n",
       "      <td>9.106316e+05</td>\n",
       "      <td>5.444328e+04</td>\n",
       "      <td>anomal</td>\n",
       "    </tr>\n",
       "    <tr>\n",
       "      <th>...</th>\n",
       "      <td>...</td>\n",
       "      <td>...</td>\n",
       "      <td>...</td>\n",
       "      <td>...</td>\n",
       "      <td>...</td>\n",
       "      <td>...</td>\n",
       "      <td>...</td>\n",
       "      <td>...</td>\n",
       "      <td>...</td>\n",
       "      <td>...</td>\n",
       "    </tr>\n",
       "    <tr>\n",
       "      <th>95</th>\n",
       "      <td>506926</td>\n",
       "      <td>U72</td>\n",
       "      <td>D58</td>\n",
       "      <td>E35</td>\n",
       "      <td>Y05</td>\n",
       "      <td>D53</td>\n",
       "      <td>F61</td>\n",
       "      <td>9.244551e+07</td>\n",
       "      <td>5.958505e+07</td>\n",
       "      <td>anomal</td>\n",
       "    </tr>\n",
       "    <tr>\n",
       "      <th>96</th>\n",
       "      <td>507636</td>\n",
       "      <td>C1</td>\n",
       "      <td>C11</td>\n",
       "      <td>C1</td>\n",
       "      <td>C70</td>\n",
       "      <td>A1</td>\n",
       "      <td>B1</td>\n",
       "      <td>9.106766e+05</td>\n",
       "      <td>5.444176e+04</td>\n",
       "      <td>anomal</td>\n",
       "    </tr>\n",
       "    <tr>\n",
       "      <th>97</th>\n",
       "      <td>528449</td>\n",
       "      <td>C89</td>\n",
       "      <td>S43</td>\n",
       "      <td>E40</td>\n",
       "      <td>Y34</td>\n",
       "      <td>L29</td>\n",
       "      <td>N28</td>\n",
       "      <td>9.244553e+07</td>\n",
       "      <td>5.958504e+07</td>\n",
       "      <td>anomal</td>\n",
       "    </tr>\n",
       "    <tr>\n",
       "      <th>98</th>\n",
       "      <td>528759</td>\n",
       "      <td>P36</td>\n",
       "      <td>V48</td>\n",
       "      <td>Z17</td>\n",
       "      <td>J68</td>\n",
       "      <td>Q50</td>\n",
       "      <td>J62</td>\n",
       "      <td>9.244554e+07</td>\n",
       "      <td>5.958504e+07</td>\n",
       "      <td>anomal</td>\n",
       "    </tr>\n",
       "    <tr>\n",
       "      <th>99</th>\n",
       "      <td>532375</td>\n",
       "      <td>C1</td>\n",
       "      <td>C11</td>\n",
       "      <td>C1</td>\n",
       "      <td>C75</td>\n",
       "      <td>A1</td>\n",
       "      <td>B1</td>\n",
       "      <td>9.106505e+05</td>\n",
       "      <td>5.444948e+04</td>\n",
       "      <td>anomal</td>\n",
       "    </tr>\n",
       "  </tbody>\n",
       "</table>\n",
       "<p>100 rows × 10 columns</p>\n",
       "</div>"
      ],
      "text/plain": [
       "     BELNR WAERS BUKRS KTOSL PRCTR BSCHL HKONT         DMBTR         WRBTR  \\\n",
       "0    12939    C1   C20    C1   C18    A1    B1  9.106583e+05  5.444984e+04   \n",
       "1    32317    C1   C11    C1   C53    A1    B1  9.106530e+05  5.443921e+04   \n",
       "2    33365   W59   C13   P83   I73   I05   Q99  9.244552e+07  5.958504e+07   \n",
       "3    34058    C1   C11    C1   C91    A1    B1  9.106689e+05  5.444086e+04   \n",
       "4    34059    C1   C11    C1   C64    A1    B1  9.106316e+05  5.444328e+04   \n",
       "..     ...   ...   ...   ...   ...   ...   ...           ...           ...   \n",
       "95  506926   U72   D58   E35   Y05   D53   F61  9.244551e+07  5.958505e+07   \n",
       "96  507636    C1   C11    C1   C70    A1    B1  9.106766e+05  5.444176e+04   \n",
       "97  528449   C89   S43   E40   Y34   L29   N28  9.244553e+07  5.958504e+07   \n",
       "98  528759   P36   V48   Z17   J68   Q50   J62  9.244554e+07  5.958504e+07   \n",
       "99  532375    C1   C11    C1   C75    A1    B1  9.106505e+05  5.444948e+04   \n",
       "\n",
       "     label  \n",
       "0   anomal  \n",
       "1   anomal  \n",
       "2   anomal  \n",
       "3   anomal  \n",
       "4   anomal  \n",
       "..     ...  \n",
       "95  anomal  \n",
       "96  anomal  \n",
       "97  anomal  \n",
       "98  anomal  \n",
       "99  anomal  \n",
       "\n",
       "[100 rows x 10 columns]"
      ]
     },
     "execution_count": 1,
     "metadata": {},
     "output_type": "execute_result"
    }
   ],
   "source": [
    "import pandas as pd\n",
    "\n",
    "anomal_data = pd.read_csv('../data/anomal_data.csv')\n",
    "anomal_data"
   ]
  },
  {
   "cell_type": "code",
   "execution_count": 3,
   "metadata": {},
   "outputs": [
    {
     "data": {
      "application/vnd.microsoft.datawrangler.viewer.v0+json": {
       "columns": [
        {
         "name": "index",
         "rawType": "int64",
         "type": "integer"
        },
        {
         "name": "DMBTR",
         "rawType": "float64",
         "type": "float"
        },
        {
         "name": "WRBTR",
         "rawType": "float64",
         "type": "float"
        }
       ],
       "conversionMethod": "pd.DataFrame",
       "ref": "98edcced-fc8a-4b1f-a7f9-c272dd53884f",
       "rows": [
        [
         "0",
         "910658.284578",
         "54449.8388203"
        ],
        [
         "1",
         "910653.005238",
         "54439.2114205"
        ],
        [
         "2",
         "92445515.6116",
         "59585038.4531"
        ],
        [
         "3",
         "910668.887465",
         "54440.8565827"
        ],
        [
         "4",
         "910631.632279",
         "54443.2837943"
        ],
        [
         "5",
         "92445529.3506",
         "59585030.9733"
        ],
        [
         "6",
         "92445534.656",
         "59585038.9215"
        ],
        [
         "7",
         "92445523.241",
         "59585047.5664"
        ],
        [
         "8",
         "910650.440131",
         "54435.055247"
        ],
        [
         "9",
         "92445529.9899",
         "59585028.7942"
        ],
        [
         "10",
         "92445518.3706",
         "59585026.0924"
        ],
        [
         "11",
         "92445521.0005",
         "59585043.925"
        ],
        [
         "12",
         "92445512.7124",
         "59585044.6612"
        ],
        [
         "13",
         "92445516.5836",
         "59585038.7989"
        ],
        [
         "14",
         "92445503.8262",
         "59585035.9197"
        ],
        [
         "15",
         "910648.636111",
         "54442.6181113"
        ],
        [
         "16",
         "92445516.8683",
         "59585018.6138"
        ],
        [
         "17",
         "92445533.9446",
         "59585046.5992"
        ],
        [
         "18",
         "92445517.8108",
         "59585034.2642"
        ],
        [
         "19",
         "92445535.2106",
         "59585050.5582"
        ],
        [
         "20",
         "92445518.2981",
         "59585041.1988"
        ],
        [
         "21",
         "910645.076191",
         "54448.4401988"
        ],
        [
         "22",
         "910645.965114",
         "54452.8097799"
        ],
        [
         "23",
         "92445498.6237",
         "59585051.0331"
        ],
        [
         "24",
         "92445515.2009",
         "59585028.796"
        ],
        [
         "25",
         "92445524.4404",
         "59585031.934"
        ],
        [
         "26",
         "910648.873494",
         "54436.7055752"
        ],
        [
         "27",
         "92445511.5839",
         "59585057.6133"
        ],
        [
         "28",
         "92445506.6853",
         "59585013.6745"
        ],
        [
         "29",
         "910664.385738",
         "54436.8975719"
        ],
        [
         "30",
         "92445512.7712",
         "59585064.5097"
        ],
        [
         "31",
         "910648.545092",
         "54446.3828302"
        ],
        [
         "32",
         "92445516.8082",
         "59585030.9065"
        ],
        [
         "33",
         "92445523.8452",
         "59585045.2316"
        ],
        [
         "34",
         "92445525.7899",
         "59585058.4756"
        ],
        [
         "35",
         "910647.596802",
         "54446.1130553"
        ],
        [
         "36",
         "910655.728514",
         "54441.6002917"
        ],
        [
         "37",
         "92445526.5137",
         "59585025.1595"
        ],
        [
         "38",
         "92445523.4338",
         "59585053.2912"
        ],
        [
         "39",
         "92445519.6935",
         "59585044.0803"
        ],
        [
         "40",
         "92445533.2032",
         "59585048.7997"
        ],
        [
         "41",
         "92445504.4746",
         "59585023.9884"
        ],
        [
         "42",
         "92445516.329",
         "59585048.2113"
        ],
        [
         "43",
         "92445523.3713",
         "59585058.3137"
        ],
        [
         "44",
         "910649.13522",
         "54441.440806"
        ],
        [
         "45",
         "92445515.7185",
         "59585046.4679"
        ],
        [
         "46",
         "92445510.3086",
         "59585053.4903"
        ],
        [
         "47",
         "910648.451982",
         "54428.4983147"
        ],
        [
         "48",
         "92445513.9541",
         "59585027.233"
        ],
        [
         "49",
         "92445501.4775",
         "59585038.0864"
        ]
       ],
       "shape": {
        "columns": 2,
        "rows": 100
       }
      },
      "text/html": [
       "<div>\n",
       "<style scoped>\n",
       "    .dataframe tbody tr th:only-of-type {\n",
       "        vertical-align: middle;\n",
       "    }\n",
       "\n",
       "    .dataframe tbody tr th {\n",
       "        vertical-align: top;\n",
       "    }\n",
       "\n",
       "    .dataframe thead th {\n",
       "        text-align: right;\n",
       "    }\n",
       "</style>\n",
       "<table border=\"1\" class=\"dataframe\">\n",
       "  <thead>\n",
       "    <tr style=\"text-align: right;\">\n",
       "      <th></th>\n",
       "      <th>DMBTR</th>\n",
       "      <th>WRBTR</th>\n",
       "    </tr>\n",
       "  </thead>\n",
       "  <tbody>\n",
       "    <tr>\n",
       "      <th>0</th>\n",
       "      <td>9.106583e+05</td>\n",
       "      <td>5.444984e+04</td>\n",
       "    </tr>\n",
       "    <tr>\n",
       "      <th>1</th>\n",
       "      <td>9.106530e+05</td>\n",
       "      <td>5.443921e+04</td>\n",
       "    </tr>\n",
       "    <tr>\n",
       "      <th>2</th>\n",
       "      <td>9.244552e+07</td>\n",
       "      <td>5.958504e+07</td>\n",
       "    </tr>\n",
       "    <tr>\n",
       "      <th>3</th>\n",
       "      <td>9.106689e+05</td>\n",
       "      <td>5.444086e+04</td>\n",
       "    </tr>\n",
       "    <tr>\n",
       "      <th>4</th>\n",
       "      <td>9.106316e+05</td>\n",
       "      <td>5.444328e+04</td>\n",
       "    </tr>\n",
       "    <tr>\n",
       "      <th>...</th>\n",
       "      <td>...</td>\n",
       "      <td>...</td>\n",
       "    </tr>\n",
       "    <tr>\n",
       "      <th>95</th>\n",
       "      <td>9.244551e+07</td>\n",
       "      <td>5.958505e+07</td>\n",
       "    </tr>\n",
       "    <tr>\n",
       "      <th>96</th>\n",
       "      <td>9.106766e+05</td>\n",
       "      <td>5.444176e+04</td>\n",
       "    </tr>\n",
       "    <tr>\n",
       "      <th>97</th>\n",
       "      <td>9.244553e+07</td>\n",
       "      <td>5.958504e+07</td>\n",
       "    </tr>\n",
       "    <tr>\n",
       "      <th>98</th>\n",
       "      <td>9.244554e+07</td>\n",
       "      <td>5.958504e+07</td>\n",
       "    </tr>\n",
       "    <tr>\n",
       "      <th>99</th>\n",
       "      <td>9.106505e+05</td>\n",
       "      <td>5.444948e+04</td>\n",
       "    </tr>\n",
       "  </tbody>\n",
       "</table>\n",
       "<p>100 rows × 2 columns</p>\n",
       "</div>"
      ],
      "text/plain": [
       "           DMBTR         WRBTR\n",
       "0   9.106583e+05  5.444984e+04\n",
       "1   9.106530e+05  5.443921e+04\n",
       "2   9.244552e+07  5.958504e+07\n",
       "3   9.106689e+05  5.444086e+04\n",
       "4   9.106316e+05  5.444328e+04\n",
       "..           ...           ...\n",
       "95  9.244551e+07  5.958505e+07\n",
       "96  9.106766e+05  5.444176e+04\n",
       "97  9.244553e+07  5.958504e+07\n",
       "98  9.244554e+07  5.958504e+07\n",
       "99  9.106505e+05  5.444948e+04\n",
       "\n",
       "[100 rows x 2 columns]"
      ]
     },
     "execution_count": 3,
     "metadata": {},
     "output_type": "execute_result"
    }
   ],
   "source": [
    "anomal_data_numerical = anomal_data[[\"DMBTR\", \"WRBTR\"]]\n",
    "anomal_data_numerical"
   ]
  },
  {
   "cell_type": "code",
   "execution_count": 12,
   "metadata": {},
   "outputs": [
    {
     "name": "stderr",
     "output_type": "stream",
     "text": [
      "/var/folders/mz/1fcctw7n0d1b3ql1xgckmytc0000gn/T/ipykernel_47324/2261478453.py:10: SettingWithCopyWarning: \n",
      "A value is trying to be set on a copy of a slice from a DataFrame.\n",
      "Try using .loc[row_indexer,col_indexer] = value instead\n",
      "\n",
      "See the caveats in the documentation: https://pandas.pydata.org/pandas-docs/stable/user_guide/indexing.html#returning-a-view-versus-a-copy\n",
      "  anomal_data_numerical['Cluster'] = dbscan.fit_predict(anomal_data_numerical)\n"
     ]
    },
    {
     "data": {
      "image/png": "[encoded data removed]",
      "text/plain": [
       "<Figure size 1000x600 with 1 Axes>"
      ]
     },
     "metadata": {},
     "output_type": "display_data"
    },
    {
     "name": "stdout",
     "output_type": "stream",
     "text": [
      "Cluster Means:\n"
     ]
    },
    {
     "data": {
      "application/vnd.microsoft.datawrangler.viewer.v0+json": {
       "columns": [
        {
         "name": "Cluster",
         "rawType": "int64",
         "type": "integer"
        },
        {
         "name": "DMBTR",
         "rawType": "float64",
         "type": "float"
        },
        {
         "name": "WRBTR",
         "rawType": "float64",
         "type": "float"
        }
       ],
       "conversionMethod": "pd.DataFrame",
       "ref": "8280e572-8a57-4dbf-b8fe-3862c486b3e5",
       "rows": [
        [
         "0",
         "910650.6633151",
         "54443.65639677666"
        ],
        [
         "1",
         "92445518.52164714",
         "59585040.94678"
        ]
       ],
       "shape": {
        "columns": 2,
        "rows": 2
       }
      },
      "text/html": [
       "<div>\n",
       "<style scoped>\n",
       "    .dataframe tbody tr th:only-of-type {\n",
       "        vertical-align: middle;\n",
       "    }\n",
       "\n",
       "    .dataframe tbody tr th {\n",
       "        vertical-align: top;\n",
       "    }\n",
       "\n",
       "    .dataframe thead th {\n",
       "        text-align: right;\n",
       "    }\n",
       "</style>\n",
       "<table border=\"1\" class=\"dataframe\">\n",
       "  <thead>\n",
       "    <tr style=\"text-align: right;\">\n",
       "      <th></th>\n",
       "      <th>DMBTR</th>\n",
       "      <th>WRBTR</th>\n",
       "    </tr>\n",
       "    <tr>\n",
       "      <th>Cluster</th>\n",
       "      <th></th>\n",
       "      <th></th>\n",
       "    </tr>\n",
       "  </thead>\n",
       "  <tbody>\n",
       "    <tr>\n",
       "      <th>0</th>\n",
       "      <td>9.106507e+05</td>\n",
       "      <td>5.444366e+04</td>\n",
       "    </tr>\n",
       "    <tr>\n",
       "      <th>1</th>\n",
       "      <td>9.244552e+07</td>\n",
       "      <td>5.958504e+07</td>\n",
       "    </tr>\n",
       "  </tbody>\n",
       "</table>\n",
       "</div>"
      ],
      "text/plain": [
       "                DMBTR         WRBTR\n",
       "Cluster                            \n",
       "0        9.106507e+05  5.444366e+04\n",
       "1        9.244552e+07  5.958504e+07"
      ]
     },
     "metadata": {},
     "output_type": "display_data"
    },
    {
     "name": "stdout",
     "output_type": "stream",
     "text": [
      "Cluster Variances:\n"
     ]
    },
    {
     "data": {
      "application/vnd.microsoft.datawrangler.viewer.v0+json": {
       "columns": [
        {
         "name": "Cluster",
         "rawType": "int64",
         "type": "integer"
        },
        {
         "name": "DMBTR",
         "rawType": "float64",
         "type": "float"
        },
        {
         "name": "WRBTR",
         "rawType": "float64",
         "type": "float"
        }
       ],
       "conversionMethod": "pd.DataFrame",
       "ref": "ddf72dfa-a3d0-4d69-a725-fe36abdcfc8a",
       "rows": [
        [
         "0",
         "112.70726185958202",
         "75.4957486264463"
        ],
        [
         "1",
         "93.59237334444128",
         "105.69312644114143"
        ]
       ],
       "shape": {
        "columns": 2,
        "rows": 2
       }
      },
      "text/html": [
       "<div>\n",
       "<style scoped>\n",
       "    .dataframe tbody tr th:only-of-type {\n",
       "        vertical-align: middle;\n",
       "    }\n",
       "\n",
       "    .dataframe tbody tr th {\n",
       "        vertical-align: top;\n",
       "    }\n",
       "\n",
       "    .dataframe thead th {\n",
       "        text-align: right;\n",
       "    }\n",
       "</style>\n",
       "<table border=\"1\" class=\"dataframe\">\n",
       "  <thead>\n",
       "    <tr style=\"text-align: right;\">\n",
       "      <th></th>\n",
       "      <th>DMBTR</th>\n",
       "      <th>WRBTR</th>\n",
       "    </tr>\n",
       "    <tr>\n",
       "      <th>Cluster</th>\n",
       "      <th></th>\n",
       "      <th></th>\n",
       "    </tr>\n",
       "  </thead>\n",
       "  <tbody>\n",
       "    <tr>\n",
       "      <th>0</th>\n",
       "      <td>112.707262</td>\n",
       "      <td>75.495749</td>\n",
       "    </tr>\n",
       "    <tr>\n",
       "      <th>1</th>\n",
       "      <td>93.592373</td>\n",
       "      <td>105.693126</td>\n",
       "    </tr>\n",
       "  </tbody>\n",
       "</table>\n",
       "</div>"
      ],
      "text/plain": [
       "              DMBTR       WRBTR\n",
       "Cluster                        \n",
       "0        112.707262   75.495749\n",
       "1         93.592373  105.693126"
      ]
     },
     "metadata": {},
     "output_type": "display_data"
    },
    {
     "name": "stdout",
     "output_type": "stream",
     "text": [
      "Value Ranges:\n"
     ]
    },
    {
     "data": {
      "application/vnd.microsoft.datawrangler.viewer.v0+json": {
       "columns": [
        {
         "name": "index",
         "rawType": "object",
         "type": "string"
        },
        {
         "name": "DMBTR",
         "rawType": "object",
         "type": "unknown"
        },
        {
         "name": "WRBTR",
         "rawType": "object",
         "type": "unknown"
        }
       ],
       "conversionMethod": "pd.DataFrame",
       "ref": "f58ce603-4dd8-49cb-843e-af9164168581",
       "rows": [
        [
         "min",
         "Cluster\n0    9.106400e+05\n1    9.244551e+07\nName: DMBTR, dtype: float64",
         "Cluster\n0    5.443497e+04\n1    5.958503e+07\nName: WRBTR, dtype: float64"
        ],
        [
         "max",
         "Cluster\n0    9.106613e+05\n1    9.244553e+07\nName: DMBTR, dtype: float64",
         "Cluster\n0    5.445235e+04\n1    5.958505e+07\nName: WRBTR, dtype: float64"
        ]
       ],
       "shape": {
        "columns": 2,
        "rows": 2
       }
      },
      "text/html": [
       "<div>\n",
       "<style scoped>\n",
       "    .dataframe tbody tr th:only-of-type {\n",
       "        vertical-align: middle;\n",
       "    }\n",
       "\n",
       "    .dataframe tbody tr th {\n",
       "        vertical-align: top;\n",
       "    }\n",
       "\n",
       "    .dataframe thead th {\n",
       "        text-align: right;\n",
       "    }\n",
       "</style>\n",
       "<table border=\"1\" class=\"dataframe\">\n",
       "  <thead>\n",
       "    <tr style=\"text-align: right;\">\n",
       "      <th></th>\n",
       "      <th>DMBTR</th>\n",
       "      <th>WRBTR</th>\n",
       "    </tr>\n",
       "  </thead>\n",
       "  <tbody>\n",
       "    <tr>\n",
       "      <th>min</th>\n",
       "      <td>Cluster\n",
       "0    9.106400e+05\n",
       "1    9.244551e+07\n",
       "Na...</td>\n",
       "      <td>Cluster\n",
       "0    5.443497e+04\n",
       "1    5.958503e+07\n",
       "Na...</td>\n",
       "    </tr>\n",
       "    <tr>\n",
       "      <th>max</th>\n",
       "      <td>Cluster\n",
       "0    9.106613e+05\n",
       "1    9.244553e+07\n",
       "Na...</td>\n",
       "      <td>Cluster\n",
       "0    5.445235e+04\n",
       "1    5.958505e+07\n",
       "Na...</td>\n",
       "    </tr>\n",
       "  </tbody>\n",
       "</table>\n",
       "</div>"
      ],
      "text/plain": [
       "                                                 DMBTR  \\\n",
       "min  Cluster\n",
       "0    9.106400e+05\n",
       "1    9.244551e+07\n",
       "Na...   \n",
       "max  Cluster\n",
       "0    9.106613e+05\n",
       "1    9.244553e+07\n",
       "Na...   \n",
       "\n",
       "                                                 WRBTR  \n",
       "min  Cluster\n",
       "0    5.443497e+04\n",
       "1    5.958503e+07\n",
       "Na...  \n",
       "max  Cluster\n",
       "0    5.445235e+04\n",
       "1    5.958505e+07\n",
       "Na...  "
      ]
     },
     "metadata": {},
     "output_type": "display_data"
    },
    {
     "name": "stdout",
     "output_type": "stream",
     "text": [
      "\n",
      "Number of Clusters: 2\n"
     ]
    },
    {
     "data": {
      "application/vnd.microsoft.datawrangler.viewer.v0+json": {
       "columns": [
        {
         "name": "index",
         "rawType": "int64",
         "type": "integer"
        },
        {
         "name": "DMBTR",
         "rawType": "float64",
         "type": "float"
        },
        {
         "name": "WRBTR",
         "rawType": "float64",
         "type": "float"
        },
        {
         "name": "Cluster",
         "rawType": "int64",
         "type": "integer"
        }
       ],
       "conversionMethod": "pd.DataFrame",
       "ref": "55243a75-abd5-4420-8928-c2a5f1e06843",
       "rows": [
        [
         "0",
         "910658.284578",
         "54449.8388203",
         "0"
        ],
        [
         "1",
         "910653.005238",
         "54439.2114205",
         "0"
        ],
        [
         "2",
         "92445515.6116",
         "59585038.4531",
         "1"
        ],
        [
         "3",
         "910668.887465",
         "54440.8565827",
         "0"
        ],
        [
         "4",
         "910631.632279",
         "54443.2837943",
         "0"
        ],
        [
         "5",
         "92445529.3506",
         "59585030.9733",
         "1"
        ],
        [
         "6",
         "92445534.656",
         "59585038.9215",
         "1"
        ],
        [
         "7",
         "92445523.241",
         "59585047.5664",
         "1"
        ],
        [
         "8",
         "910650.440131",
         "54435.055247",
         "0"
        ],
        [
         "9",
         "92445529.9899",
         "59585028.7942",
         "1"
        ],
        [
         "10",
         "92445518.3706",
         "59585026.0924",
         "1"
        ],
        [
         "11",
         "92445521.0005",
         "59585043.925",
         "1"
        ],
        [
         "12",
         "92445512.7124",
         "59585044.6612",
         "1"
        ],
        [
         "13",
         "92445516.5836",
         "59585038.7989",
         "1"
        ],
        [
         "14",
         "92445503.8262",
         "59585035.9197",
         "1"
        ],
        [
         "15",
         "910648.636111",
         "54442.6181113",
         "0"
        ],
        [
         "16",
         "92445516.8683",
         "59585018.6138",
         "1"
        ],
        [
         "17",
         "92445533.9446",
         "59585046.5992",
         "1"
        ],
        [
         "18",
         "92445517.8108",
         "59585034.2642",
         "1"
        ],
        [
         "19",
         "92445535.2106",
         "59585050.5582",
         "1"
        ],
        [
         "20",
         "92445518.2981",
         "59585041.1988",
         "1"
        ],
        [
         "21",
         "910645.076191",
         "54448.4401988",
         "0"
        ],
        [
         "22",
         "910645.965114",
         "54452.8097799",
         "0"
        ],
        [
         "23",
         "92445498.6237",
         "59585051.0331",
         "1"
        ],
        [
         "24",
         "92445515.2009",
         "59585028.796",
         "1"
        ],
        [
         "25",
         "92445524.4404",
         "59585031.934",
         "1"
        ],
        [
         "26",
         "910648.873494",
         "54436.7055752",
         "0"
        ],
        [
         "27",
         "92445511.5839",
         "59585057.6133",
         "1"
        ],
        [
         "28",
         "92445506.6853",
         "59585013.6745",
         "1"
        ],
        [
         "29",
         "910664.385738",
         "54436.8975719",
         "0"
        ],
        [
         "30",
         "92445512.7712",
         "59585064.5097",
         "1"
        ],
        [
         "31",
         "910648.545092",
         "54446.3828302",
         "0"
        ],
        [
         "32",
         "92445516.8082",
         "59585030.9065",
         "1"
        ],
        [
         "33",
         "92445523.8452",
         "59585045.2316",
         "1"
        ],
        [
         "34",
         "92445525.7899",
         "59585058.4756",
         "1"
        ],
        [
         "35",
         "910647.596802",
         "54446.1130553",
         "0"
        ],
        [
         "36",
         "910655.728514",
         "54441.6002917",
         "0"
        ],
        [
         "37",
         "92445526.5137",
         "59585025.1595",
         "1"
        ],
        [
         "38",
         "92445523.4338",
         "59585053.2912",
         "1"
        ],
        [
         "39",
         "92445519.6935",
         "59585044.0803",
         "1"
        ],
        [
         "40",
         "92445533.2032",
         "59585048.7997",
         "1"
        ],
        [
         "41",
         "92445504.4746",
         "59585023.9884",
         "1"
        ],
        [
         "42",
         "92445516.329",
         "59585048.2113",
         "1"
        ],
        [
         "43",
         "92445523.3713",
         "59585058.3137",
         "1"
        ],
        [
         "44",
         "910649.13522",
         "54441.440806",
         "0"
        ],
        [
         "45",
         "92445515.7185",
         "59585046.4679",
         "1"
        ],
        [
         "46",
         "92445510.3086",
         "59585053.4903",
         "1"
        ],
        [
         "47",
         "910648.451982",
         "54428.4983147",
         "0"
        ],
        [
         "48",
         "92445513.9541",
         "59585027.233",
         "1"
        ],
        [
         "49",
         "92445501.4775",
         "59585038.0864",
         "1"
        ]
       ],
       "shape": {
        "columns": 3,
        "rows": 100
       }
      },
      "text/html": [
       "<div>\n",
       "<style scoped>\n",
       "    .dataframe tbody tr th:only-of-type {\n",
       "        vertical-align: middle;\n",
       "    }\n",
       "\n",
       "    .dataframe tbody tr th {\n",
       "        vertical-align: top;\n",
       "    }\n",
       "\n",
       "    .dataframe thead th {\n",
       "        text-align: right;\n",
       "    }\n",
       "</style>\n",
       "<table border=\"1\" class=\"dataframe\">\n",
       "  <thead>\n",
       "    <tr style=\"text-align: right;\">\n",
       "      <th></th>\n",
       "      <th>DMBTR</th>\n",
       "      <th>WRBTR</th>\n",
       "      <th>Cluster</th>\n",
       "    </tr>\n",
       "  </thead>\n",
       "  <tbody>\n",
       "    <tr>\n",
       "      <th>0</th>\n",
       "      <td>9.106583e+05</td>\n",
       "      <td>5.444984e+04</td>\n",
       "      <td>0</td>\n",
       "    </tr>\n",
       "    <tr>\n",
       "      <th>1</th>\n",
       "      <td>9.106530e+05</td>\n",
       "      <td>5.443921e+04</td>\n",
       "      <td>0</td>\n",
       "    </tr>\n",
       "    <tr>\n",
       "      <th>2</th>\n",
       "      <td>9.244552e+07</td>\n",
       "      <td>5.958504e+07</td>\n",
       "      <td>1</td>\n",
       "    </tr>\n",
       "    <tr>\n",
       "      <th>3</th>\n",
       "      <td>9.106689e+05</td>\n",
       "      <td>5.444086e+04</td>\n",
       "      <td>0</td>\n",
       "    </tr>\n",
       "    <tr>\n",
       "      <th>4</th>\n",
       "      <td>9.106316e+05</td>\n",
       "      <td>5.444328e+04</td>\n",
       "      <td>0</td>\n",
       "    </tr>\n",
       "    <tr>\n",
       "      <th>...</th>\n",
       "      <td>...</td>\n",
       "      <td>...</td>\n",
       "      <td>...</td>\n",
       "    </tr>\n",
       "    <tr>\n",
       "      <th>95</th>\n",
       "      <td>9.244551e+07</td>\n",
       "      <td>5.958505e+07</td>\n",
       "      <td>1</td>\n",
       "    </tr>\n",
       "    <tr>\n",
       "      <th>96</th>\n",
       "      <td>9.106766e+05</td>\n",
       "      <td>5.444176e+04</td>\n",
       "      <td>0</td>\n",
       "    </tr>\n",
       "    <tr>\n",
       "      <th>97</th>\n",
       "      <td>9.244553e+07</td>\n",
       "      <td>5.958504e+07</td>\n",
       "      <td>1</td>\n",
       "    </tr>\n",
       "    <tr>\n",
       "      <th>98</th>\n",
       "      <td>9.244554e+07</td>\n",
       "      <td>5.958504e+07</td>\n",
       "      <td>1</td>\n",
       "    </tr>\n",
       "    <tr>\n",
       "      <th>99</th>\n",
       "      <td>9.106505e+05</td>\n",
       "      <td>5.444948e+04</td>\n",
       "      <td>0</td>\n",
       "    </tr>\n",
       "  </tbody>\n",
       "</table>\n",
       "<p>100 rows × 3 columns</p>\n",
       "</div>"
      ],
      "text/plain": [
       "           DMBTR         WRBTR  Cluster\n",
       "0   9.106583e+05  5.444984e+04        0\n",
       "1   9.106530e+05  5.443921e+04        0\n",
       "2   9.244552e+07  5.958504e+07        1\n",
       "3   9.106689e+05  5.444086e+04        0\n",
       "4   9.106316e+05  5.444328e+04        0\n",
       "..           ...           ...      ...\n",
       "95  9.244551e+07  5.958505e+07        1\n",
       "96  9.106766e+05  5.444176e+04        0\n",
       "97  9.244553e+07  5.958504e+07        1\n",
       "98  9.244554e+07  5.958504e+07        1\n",
       "99  9.106505e+05  5.444948e+04        0\n",
       "\n",
       "[100 rows x 3 columns]"
      ]
     },
     "execution_count": 12,
     "metadata": {},
     "output_type": "execute_result"
    }
   ],
   "source": [
    "from sklearn.cluster import DBSCAN\n",
    "import matplotlib.pyplot as plt\n",
    "import numpy as np\n",
    "\n",
    "# Assuming anomal_data_numerical is already defined\n",
    "anomal_data_numerical = anomal_data[[\"DMBTR\", \"WRBTR\"]]\n",
    "\n",
    "# Create and fit the DBSCAN model\n",
    "dbscan = DBSCAN(eps=100, min_samples=5)\n",
    "anomal_data_numerical['Cluster'] = dbscan.fit_predict(anomal_data_numerical)\n",
    "\n",
    "# Calculate mean and variance for each cluster\n",
    "cluster_means = anomal_data_numerical.groupby('Cluster').mean()\n",
    "cluster_variances = anomal_data_numerical.groupby('Cluster').var()\n",
    "\n",
    "# Calculate the value range (mean ± standard deviation)\n",
    "cluster_std = np.sqrt(cluster_variances)\n",
    "value_ranges = {\n",
    "    'DMBTR': {\n",
    "        'min': cluster_means['DMBTR'] - cluster_std['DMBTR'],\n",
    "        'max': cluster_means['DMBTR'] + cluster_std['DMBTR']\n",
    "    },\n",
    "    'WRBTR': {\n",
    "        'min': cluster_means['WRBTR'] - cluster_std['WRBTR'],\n",
    "        'max': cluster_means['WRBTR'] + cluster_std['WRBTR']\n",
    "    }\n",
    "}\n",
    "\n",
    "# Plot the clusters\n",
    "plt.figure(figsize=(10, 6))\n",
    "plt.scatter(anomal_data_numerical['DMBTR'], anomal_data_numerical['WRBTR'], c=anomal_data_numerical['Cluster'], cmap='viridis')\n",
    "plt.xlabel('DMBTR')\n",
    "plt.ylabel('WRBTR')\n",
    "plt.title('DBSCAN Clustering of Anomal Data')\n",
    "plt.show()\n",
    "\n",
    "# Display cluster means, variances, and value ranges\n",
    "print(\"Cluster Means:\")\n",
    "display(cluster_means)\n",
    "print(\"Cluster Variances:\")\n",
    "display(cluster_variances)\n",
    "print(\"Value Ranges:\")\n",
    "display(pd.DataFrame(value_ranges))\n",
    "\n",
    "# Get the number of clusters\n",
    "num_clusters = anomal_data_numerical['Cluster'].nunique()\n",
    "print(\"\\nNumber of Clusters:\", num_clusters)\n",
    "\n",
    "anomal_data_numerical"
   ]
  }
 ],
 "metadata": {
  "kernelspec": {
   "display_name": ".venv",
   "language": "python",
   "name": "python3"
  },
  "language_info": {
   "codemirror_mode": {
    "name": "ipython",
    "version": 3
   },
   "file_extension": ".py",
   "mimetype": "text/x-python",
   "name": "python",
   "nbconvert_exporter": "python",
   "pygments_lexer": "ipython3",
   "version": "3.12.7"
  }
 },
 "nbformat": 4,
 "nbformat_minor": 2
}

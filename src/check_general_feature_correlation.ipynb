{
 "cells": [
  {
   "cell_type": "markdown",
   "metadata": {},
   "source": [
    "### Check how the features are generally correlated\n",
    "This notebook should give insights into how the features of the dataset generally are correlated to the label values. This should be considered a part of data exploration for now as I am not sure if this can be used in a meaningful way to get insights about why new datapoints have been labeled as an anomaly. "
   ]
  },
  {
   "cell_type": "markdown",
   "metadata": {},
   "source": [
    "### How to run\n",
    "To successfully run this notebook, you need to first execeute the [Create one hot encoding notebook](create_one_hot_encoding.ipynb) to create the one hot encoded data."
   ]
  },
  {
   "cell_type": "markdown",
   "metadata": {},
   "source": [
    "### Key insights\n",
    "The features that contribute the most in cases where an example was labeled as an anomaly are: (measured by the lowest negative correlation value:)\n",
    "1. WRBTR (Betrag in Belegwährung $\\rightarrow$ higher values correlated with anomalies)         -0.703103 \n",
    "2. DMBTR (Betrag in lokaler Währung $\\rightarrow$ higher values correlated with anomalies)      0.407733\n",
    "3. WAERS_P37 (Währungsschlüssel $\\rightarrow$ P37 correlates with anomalies)                    -0.141408\n",
    "4. WAERS_O37 (Währungsschlüssel $\\rightarrow$ 037 correlates with anomalies)                    -0.141408\n",
    "5. WAERS_Z06 (Währungsschlüssel $\\rightarrow$ Z06 correlates with anomalies)                    -0.141408\n",
    "6. WAERS_W59 (Währungsschlüssel $\\rightarrow$ W59 correlates with anomalies)                    -0.099991\n",
    "7. KTOSL_P83 (Kostenstelle $\\rightarrow$ P83 correlates with anomalies)                         -0.099991\n",
    "8. PRCTR_I73 (Profitcenter $\\rightarrow$ I73 correlates with anomalies)                         -0.099991\n",
    "9. BSCHL_I05 (Buchungsschlüssel $\\rightarrow$ I05 correlates with anomalies)                    -0.099991\n",
    "10. HKONT_Q99 (Sachkonto $\\rightarrow$ Q99 correlates with anomalies)                           -0.099991"
   ]
  },
  {
   "cell_type": "code",
   "execution_count": 7,
   "metadata": {},
   "outputs": [],
   "source": [
    "import pandas as pd\n",
    "data_one_hot_encoded = pd.read_csv('../data/datathon_data_one_hot_encoded.csv')"
   ]
  },
  {
   "cell_type": "code",
   "execution_count": 8,
   "metadata": {},
   "outputs": [
    {
     "data": {
      "text/plain": [
       "DMBTR       -0.407733\n",
       "WRBTR       -0.703103\n",
       "WAERS_B31   -0.099991\n",
       "WAERS_B39   -0.099991\n",
       "WAERS_C1     0.005936\n",
       "               ...   \n",
       "HKONT_X53   -0.099991\n",
       "HKONT_Y03   -0.099991\n",
       "HKONT_Y23   -0.099991\n",
       "HKONT_Z01   -0.099991\n",
       "HKONT_Z02   -0.099991\n",
       "Length: 612, dtype: float64"
      ]
     },
     "execution_count": 8,
     "metadata": {},
     "output_type": "execute_result"
    }
   ],
   "source": [
    "target_feature = \"label_regular\"\n",
    "target_correlation = data_one_hot_encoded.corrwith(data_one_hot_encoded[target_feature])\n",
    "target_correlation = target_correlation.drop(target_feature)\n",
    "target_correlation"
   ]
  },
  {
   "cell_type": "code",
   "execution_count": 9,
   "metadata": {},
   "outputs": [
    {
     "data": {
      "text/plain": [
       "WRBTR       -0.703103\n",
       "DMBTR       -0.407733\n",
       "WAERS_P37   -0.141408\n",
       "WAERS_O37   -0.141408\n",
       "WAERS_Z06   -0.141408\n",
       "WAERS_W59   -0.099991\n",
       "KTOSL_P83   -0.099991\n",
       "PRCTR_I73   -0.099991\n",
       "BSCHL_I05   -0.099991\n",
       "HKONT_Q99   -0.099991\n",
       "dtype: float64"
      ]
     },
     "execution_count": 9,
     "metadata": {},
     "output_type": "execute_result"
    }
   ],
   "source": [
    "target_correlation_sorted = target_correlation.sort_values(ascending=True)\n",
    "target_correlation_sorted.head(10)"
   ]
  }
 ],
 "metadata": {
  "kernelspec": {
   "display_name": ".venv",
   "language": "python",
   "name": "python3"
  },
  "language_info": {
   "codemirror_mode": {
    "name": "ipython",
    "version": 3
   },
   "file_extension": ".py",
   "mimetype": "text/x-python",
   "name": "python",
   "nbconvert_exporter": "python",
   "pygments_lexer": "ipython3",
   "version": "3.12.7"
  }
 },
 "nbformat": 4,
 "nbformat_minor": 2
}
